{
 "cells": [
  {
   "cell_type": "markdown",
   "metadata": {},
   "source": []
  },
  {
   "cell_type": "markdown",
   "metadata": {},
   "source": [
    "# Data loading"
   ]
  },
  {
   "cell_type": "code",
   "execution_count": null,
   "metadata": {},
   "outputs": [],
   "source": [
    "import numpy as np\n",
    "from IPython.display import display, Image\n",
    "\n",
    "from platform import python_version\n",
    "print(python_version())"
   ]
  },
  {
   "cell_type": "code",
   "execution_count": null,
   "metadata": {},
   "outputs": [],
   "source": [
    "# data is in float64 format: 0.0-0.000255\n",
    "def load_data(type, region):\n",
    "    # `raw_validation_set.npy` is multiple tries non-averaged `validation_set.npy`\n",
    "    return (\n",
    "        (np.load(f'./Data/region{region}/{type}_inputs.npy')*1_000_000).astype(np.uint8),\n",
    "        np.load(f'./Data/region{region}/{type}_set.npy')\n",
    "    )\n",
    "    \n",
    "(input_tr, output_tr) = load_data('training', 2) \n",
    "(val_input, val_output) = load_data('validation', 2)"
   ]
  },
  {
   "cell_type": "markdown",
   "metadata": {},
   "source": [
    "# Data exploration"
   ]
  },
  {
   "cell_type": "code",
   "execution_count": null,
   "metadata": {
    "scrolled": true
   },
   "outputs": [],
   "source": [
    "display(input_tr.shape, output_tr.shape)\n",
    "display(val_input.shape, val_output.shape)"
   ]
  },
  {
   "cell_type": "code",
   "execution_count": null,
   "metadata": {},
   "outputs": [],
   "source": [
    "display(input_tr.shape)\n",
    "display(input_tr[0])\n",
    "display(input_tr.dtype)\n",
    "display(min(input_tr[0]), max(input_tr[0]), np.mean(input_tr[0]), np.std(input_tr[0]))\n",
    "display(min(input_tr[1]), max(input_tr[1]), np.mean(input_tr[1]), np.std(input_tr[1]))\n",
    "\n",
    "display(output_tr.shape)\n",
    "display(output_tr[0])\n",
    "display(output_tr.dtype)\n",
    "display(min(output_tr[0]), max(output_tr[0]), np.mean(output_tr[0]), np.std(output_tr[0]))\n"
   ]
  },
  {
   "cell_type": "code",
   "execution_count": null,
   "metadata": {},
   "outputs": [],
   "source": [
    "from PIL import Image\n",
    "\n",
    "def reshape_single_as_picture(input, size=31):\n",
    "    return np.reshape(input, (size, size))\n",
    "\n",
    "def as_single_picture(input, size=31):\n",
    "    return Image.fromarray(reshape_single_as_picture(input, size), 'L')"
   ]
  },
  {
   "cell_type": "code",
   "execution_count": null,
   "metadata": {},
   "outputs": [],
   "source": [
    "display(as_single_picture(input_tr[0]))\n",
    "display(as_single_picture(input_tr[2]))\n",
    "display(as_single_picture(input_tr[700]))\n",
    "display(as_single_picture(input_tr[-1]))\n",
    "display(as_single_picture(input_tr[-2]))\n",
    "\n",
    "display(input_tr[0]*1_000_000)"
   ]
  },
  {
   "cell_type": "markdown",
   "metadata": {},
   "source": [
    "# Data trasnform"
   ]
  },
  {
   "cell_type": "code",
   "execution_count": null,
   "metadata": {},
   "outputs": [],
   "source": [
    "def downsample_input(dta):\n",
    "    def process_single(pic):\n",
    "        resized_pic = as_single_picture(pic).resize(size=(15, 15), resample=Image.BICUBIC)\n",
    "        return np.array(resized_pic).reshape(15*15)\n",
    "    return np.array([process_single(pic) for pic in dta])\n",
    "\n",
    "def normalize_input(dta):\n",
    "    return (dta/np.std(dta))"
   ]
  },
  {
   "cell_type": "code",
   "execution_count": null,
   "metadata": {},
   "outputs": [],
   "source": [
    "input_tr_processed = downsample_input(input_tr)\n",
    "display(as_single_picture(input_tr_processed[0], 15))\n",
    "display(as_single_picture(input_tr_processed[2], 15))\n",
    "display(as_single_picture(input_tr_processed[-1], 15))\n",
    "display(as_single_picture(input_tr_processed[-2], 15))\n",
    "\n",
    "display(input_tr_processed[0], min(input_tr_processed[0]), max(input_tr_processed[0]))"
   ]
  },
  {
   "cell_type": "markdown",
   "metadata": {},
   "source": [
    "# Network parameters"
   ]
  },
  {
   "cell_type": "code",
   "execution_count": null,
   "metadata": {},
   "outputs": [],
   "source": [
    "import NDN3.NDNutils as NDNutils\n",
    "import NDN3.NDN as NDN\n",
    "\n",
    "from datetime import datetime"
   ]
  },
  {
   "cell_type": "code",
   "execution_count": null,
   "metadata": {},
   "outputs": [],
   "source": [
    "def get_hsm_params(input, output, hls=40):\n",
    "    _, output_shape = output.shape\n",
    "    _, input_shape = input.shape\n",
    "    display(f\"in: {input_shape} out: {output_shape}\")\n",
    "\n",
    "    d2x = 0.0005\n",
    "    l1 = 0.000001\n",
    "\n",
    "    hsm_params = NDNutils.ffnetwork_params(\n",
    "        input_dims=[1, input_shape], \n",
    "        layer_sizes=[hls, 2*hls, output_shape],\n",
    "        ei_layers=[0, hls // 2],\n",
    "        normalization=[0], \n",
    "        layer_types=['normal','normal','normal'], \n",
    "        reg_list={\n",
    "            'd2x':[d2x,None,None],\n",
    "            'l1':[l1,None,None],\n",
    "            'max':[None,None,100]})\n",
    "    hsm_params['weights_initializers']=['normal','normal','normal']\n",
    "    hsm_params['normalize_weights']=[1,0,0]\n",
    "    \n",
    "    return hsm_params"
   ]
  },
  {
   "cell_type": "markdown",
   "metadata": {},
   "source": [
    "# Network training"
   ]
  },
  {
   "cell_type": "code",
   "execution_count": null,
   "metadata": {},
   "outputs": [],
   "source": [
    "def train_network(train_input, train_output, larg, opt_params, hsm_params, test_input = None, test_output = None):\n",
    "    time_str = datetime.now().strftime(\"%d-%m-%Y-%H-%M-%S\")\n",
    "    display(time_str)\n",
    "    \n",
    "    train_len, _ = train_input.shape\n",
    "    if test_input is not None:\n",
    "        input = np.concatenate([train_input, test_input], axis=0)\n",
    "        output = np.concatenate([train_output, test_output], axis=0)\n",
    "        test_len, _ = test_input.shape\n",
    "    else:\n",
    "        input = train_input\n",
    "        output = train_output\n",
    "        opt_params['early_stop'] = 0 # If we don't have test data -> shoudn't be early stopping (could early stop on train)\n",
    "        test_len = 0  \n",
    "        \n",
    "    train_indxs = np.array(range(train_len))\n",
    "    test_indxs = np.array(range(train_len, train_len + test_len)) if test_len > 0 else None\n",
    "    \n",
    "    hsm = NDN.NDN(hsm_params, noise_dist='poisson')\n",
    "    hsm.train(\n",
    "        input_data=input, \n",
    "        output_data=output, \n",
    "        train_indxs=train_indxs, \n",
    "        test_indxs=test_indxs, \n",
    "        learning_alg=larg, \n",
    "        opt_params=opt_params, \n",
    "        output_dir=f\"logs/{time_str}\"\n",
    "    )\n",
    "    \n",
    "    return hsm"
   ]
  },
  {
   "cell_type": "markdown",
   "metadata": {},
   "source": [
    "# Results evaluation"
   ]
  },
  {
   "cell_type": "code",
   "execution_count": null,
   "metadata": {},
   "outputs": [],
   "source": [
    "def get_correlation(a, b):\n",
    "    import scipy.stats\n",
    "    assert a.shape == b.shape\n",
    "    c = [scipy.stats.pearsonr(a[:,i], b[:,i])[0] for i in range(a.shape[1])]\n",
    "    return np.array(c)"
   ]
  },
  {
   "cell_type": "code",
   "execution_count": null,
   "metadata": {},
   "outputs": [],
   "source": [
    "def show_some_first_layers(hsm):\n",
    "    import matplotlib.pyplot as plt  # plotting\n",
    "\n",
    "    input_size = [15, 15]\n",
    "    nrows, ncols = 5, 8\n",
    "\n",
    "    fig, _ = plt.subplots(nrows=nrows, ncols=ncols)\n",
    "    fig.set_size_inches(12, 6)\n",
    "    for neuron_i in range(nrows * ncols):\n",
    "        plt.subplot(nrows, ncols, neuron_i+1)\n",
    "        w = hsm.networks[0].layers[0].weights[:,neuron_i]\n",
    "        plt.imshow(np.reshape(w, input_size), cmap='Greys', interpolation='none', vmin=-max(abs(w)), vmax=max(abs(w)))\n",
    "    plt.show()\n",
    "    "
   ]
  },
  {
   "cell_type": "code",
   "execution_count": null,
   "metadata": {},
   "outputs": [],
   "source": [
    "def print_stat_matrix(string, stat):\n",
    "    display(string + \": \" + str(np.mean(stat)))\n",
    "    display(stat)\n",
    "    \n",
    "def evaluate_all(hsm, input, golden):\n",
    "    dta_len, _ = input.shape\n",
    "    \n",
    "    eval = hsm.eval_models(input_data=input, output_data=golden, data_indxs=np.array(range(dta_len)), nulladjusted=True) \n",
    "    print_stat_matrix(\"Null adj eval \", eval)\n",
    "    \n",
    "    result = hsm.generate_prediction(input)\n",
    "    std_result, std_golden = np.std(result, axis=0), np.std(golden, axis=0)\n",
    "    \n",
    "    print_stat_matrix(\"STD result\", std_result)\n",
    "    print_stat_matrix(\"STD golden\", std_golden)\n",
    "    \n",
    "    corr = get_correlation(result, golden)\n",
    "    corr[np.isnan(corr)] = 0\n",
    "    print_stat_matrix(\"Corr\", corr)\n",
    "    \n",
    "    return result"
   ]
  },
  {
   "cell_type": "code",
   "execution_count": null,
   "metadata": {},
   "outputs": [],
   "source": [
    "def print_stat_scalar(string, stat):\n",
    "    display(string + \": \" + str(stat))\n",
    "\n",
    "def evaluate_output_neuron(result, golden, i):\n",
    "    corr = get_correlation(result, golden)\n",
    "    corr[np.isnan(corr)] = 0\n",
    "    print_stat_scalar(\"Corr\", corr[i])\n",
    "    \n",
    "    print_stat_scalar(\"STD result\", np.std(result, axis=0)[i])\n",
    "    print_stat_scalar(\"STD golden\", np.std(golden, axis=0)[i])\n",
    "    \n",
    "    print_stat_scalar(\"Mean result\", np.mean(result, axis=0)[i])\n",
    "    print_stat_scalar(\"Mean golden\", np.mean(golden, axis=0)[i])\n",
    "\n",
    "    display(\"Example result\", result[:15, i])\n",
    "    display(\"Example golden\", golden[:15, i])\n",
    "    \n",
    "def evaluate_best_corr_neuron(result, golden):\n",
    "    corr = get_correlation(result, golden)\n",
    "    corr[np.isnan(corr)] = 0\n",
    "\n",
    "    max_corr_i = np.nanargmax(corr)\n",
    "    print_stat_scalar(\"Argmax i\", max_corr_i)\n",
    "    \n",
    "    evaluate_output_neuron(result, golden, max_corr_i)"
   ]
  },
  {
   "cell_type": "markdown",
   "metadata": {},
   "source": [
    "# Experiments"
   ]
  },
  {
   "cell_type": "code",
   "execution_count": null,
   "metadata": {},
   "outputs": [],
   "source": [
    "(input_tr, output_tr) = load_data('training', 2) \n",
    "input_tr_processed = downsample_input(input_tr)\n",
    "\n",
    "(input_val, output_val) = load_data('validation', 2)\n",
    "input_val_processed = downsample_input(input_val)\n",
    "\n",
    "hsm_params = get_hsm_params(input_tr_processed, output_tr)\n",
    "hsm = train_network(\n",
    "    input_tr_processed, output_tr,\n",
    "    'lbfgs', \n",
    "    {'batch_size': 2, 'use_gpu': False, 'epochs_summary': 10, 'epochs_training': 300, 'maxiter': 2000, 'display': True, 'ftol': 2.220446049250313e-11},\n",
    "    hsm_params,\n",
    "    input_val_processed, output_val\n",
    ")\n",
    "\n",
    "\n",
    "res = evaluate_all(hsm, input_val_processed, output_val)\n",
    "show_some_first_layers(hsm)\n",
    "evaluate_best_corr_neuron(res, output_val)"
   ]
  },
  {
   "cell_type": "code",
   "execution_count": null,
   "metadata": {},
   "outputs": [],
   "source": [
    "(input_tr, output_tr) = load_data('training', 2) \n",
    "input_tr_processed = downsample_input(input_tr)\n",
    "\n",
    "(input_val, output_val) = load_data('validation', 2)\n",
    "input_val_processed = downsample_input(input_val)\n",
    "\n",
    "hsm_params = get_hsm_params(input_tr_processed, output_tr)\n",
    "hsm = train_network(\n",
    "    input_tr_processed, output_tr,\n",
    "    'adam', \n",
    "    {'batch_size': 8, 'use_gpu': False, 'epochs_summary': 10, 'epochs_training': 1000, 'learning_rate': 0.5e-4},\n",
    "    hsm_params,\n",
    "    input_val_processed, output_val\n",
    ")\n",
    "\n",
    "\n",
    "res = evaluate_all(hsm, input_val_processed, output_val)\n",
    "show_some_first_layers(hsm)\n",
    "evaluate_best_corr_neuron(res, output_val)"
   ]
  }
 ],
 "metadata": {
  "file_extension": ".py",
  "kernelspec": {
   "display_name": "Python 2",
   "language": "python",
   "name": "python2"
  },
  "language_info": {
   "codemirror_mode": {
    "name": "ipython",
    "version": 3
   },
   "file_extension": ".py",
   "mimetype": "text/x-python",
   "name": "python",
   "nbconvert_exporter": "python",
   "pygments_lexer": "ipython3",
   "version": "3.7.5"
  },
  "mimetype": "text/x-python",
  "name": "python",
  "npconvert_exporter": "python",
  "pygments_lexer": "ipython3",
  "version": 3
 },
 "nbformat": 4,
 "nbformat_minor": 2
}
