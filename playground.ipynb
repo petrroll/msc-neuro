{
 "nbformat": 4,
 "nbformat_minor": 2,
 "metadata": {
  "language_info": {
   "name": "python",
   "codemirror_mode": {
    "name": "ipython",
    "version": 3
   }
  },
  "orig_nbformat": 2,
  "file_extension": ".py",
  "mimetype": "text/x-python",
  "name": "python",
  "npconvert_exporter": "python",
  "pygments_lexer": "ipython3",
  "version": 3
 },
 "cells": [
  {
   "cell_type": "code",
   "execution_count": 1,
   "metadata": {},
   "outputs": [],
   "source": [
    "import numpy as np\n",
    "from IPython.display import display, Image"
   ]
  },
  {
   "cell_type": "code",
   "execution_count": 2,
   "metadata": {},
   "outputs": [],
   "source": [
    "input_tr = np.load('./Data/region1/training_inputs.npy')\n",
    "output_tr = np.load('./Data/region1/training_set.npy')"
   ]
  },
  {
   "cell_type": "code",
   "execution_count": 3,
   "metadata": {},
   "outputs": [],
   "source": [
    "display(input_tr.shape)\n",
    "display(input_tr[0])\n",
    "display(input_tr.dtype)\n",
    "display(min(input_tr[0]), max(input_tr[0]), np.mean(input_tr[0]), np.std(input_tr[0]))\n",
    "display(min(input_tr[1]), max(input_tr[1]), np.mean(input_tr[1]), np.std(input_tr[1]))\n",
    "\n",
    "display(output_tr.shape)\n",
    "display(output_tr[0])\n",
    "display(output_tr.dtype)\n",
    "display(min(output_tr[0]), max(output_tr[0]), np.mean(output_tr[0]), np.std(output_tr[0]))\n"
   ]
  },
  {
   "cell_type": "code",
   "execution_count": 4,
   "metadata": {},
   "outputs": [],
   "source": [
    "from PIL import Image"
   ]
  },
  {
   "cell_type": "code",
   "execution_count": 5,
   "metadata": {},
   "outputs": [],
   "source": [
    "def reshape_single_as_picture(input, size=31):\n",
    "    return np.reshape(input, (size, size))\n",
    "\n",
    "def as_single_picture(input, size=31):\n",
    "    return Image.fromarray(reshape_single_as_picture(input, size), 'L')"
   ]
  },
  {
   "cell_type": "code",
   "execution_count": 6,
   "metadata": {},
   "outputs": [],
   "source": [
    "display(as_single_picture(input_tr[0]))\n",
    "display(as_single_picture(input_tr[2]))\n",
    "display(as_single_picture(input_tr[700]))\n",
    "display(as_single_picture(input_tr[-1]))\n",
    "display(as_single_picture(input_tr[-2]))\n",
    "\n",
    "display(input_tr[0]*1_000_000)"
   ]
  },
  {
   "cell_type": "code",
   "execution_count": 7,
   "metadata": {},
   "outputs": [],
   "source": [
    "def downsample_input(dta):\n",
    "    def process_single(pic):\n",
    "        resized_pic = as_single_picture(pic).resize(size=(15, 15), resample=Image.BICUBIC)\n",
    "        return np.array(resized_pic).reshape(15*15)\n",
    "    return np.array([process_single(pic) for pic in dta])\n",
    "    "
   ]
  },
  {
   "cell_type": "code",
   "execution_count": 8,
   "metadata": {},
   "outputs": [],
   "source": [
    "downsample_input(input_tr)\n"
   ]
  },
  {
   "cell_type": "code",
   "execution_count": 9,
   "metadata": {},
   "outputs": [],
   "source": [
    "def normalize_input(dta):\n",
    "    return (dta/np.std(dta))"
   ]
  },
  {
   "cell_type": "code",
   "execution_count": 10,
   "metadata": {},
   "outputs": [],
   "source": [
    "input_tr_processed = downsample_input(input_tr)\n",
    "display(as_single_picture(input_tr_processed[0], 15))\n",
    "display(as_single_picture(input_tr_processed[2], 15))\n",
    "display(as_single_picture(input_tr_processed[-1], 15))\n",
    "display(as_single_picture(input_tr_processed[-2], 15))"
   ]
  },
  {
   "cell_type": "code",
   "execution_count": 11,
   "metadata": {},
   "outputs": [],
   "source": [
    "display(input_tr_processed[0], min(input_tr_processed[0]), max(input_tr_processed[0]))"
   ]
  },
  {
   "cell_type": "code",
   "execution_count": 12,
   "metadata": {},
   "outputs": [],
   "source": [
    "_, output_shape = output_tr.shape\n",
    "dta_len, input_shape = input_tr_processed.shape\n",
    "display(dta_len, output_shape, input_shape)"
   ]
  },
  {
   "cell_type": "code",
   "execution_count": 13,
   "metadata": {},
   "outputs": [],
   "source": [
    "import NDN3.NDNutils as NDNutils"
   ]
  },
  {
   "cell_type": "code",
   "execution_count": 14,
   "metadata": {},
   "outputs": [],
   "source": [
    "hls = 40\n",
    "d2x = 0.0005\n",
    "l1 = 0.000001\n",
    "\n",
    "hsm_params = NDNutils.ffnetwork_params(\n",
    "    input_dims=[1, input_shape], \n",
    "    layer_sizes=[hls, 2*hls, output_shape],\n",
    "    ei_layers=[0, hls // 2],\n",
    "    normalization=[0], \n",
    "    layer_types=['normal','normal','normal'], \n",
    "    reg_list={\n",
    "        'd2x':[d2x,None,None],\n",
    "        'l1':[l1,None,None],\n",
    "        'max':[None,None,100]})\n",
    "hsm_params['weights_initializers']=['normal','normal','normal']\n",
    "hsm_params['normalize_weights']=[1,0,0]\n",
    "\n",
    "display(hsm_params)"
   ]
  },
  {
   "cell_type": "code",
   "execution_count": 39,
   "metadata": {},
   "outputs": [],
   "source": [
    "import NDN3.NDN as NDN\n",
    "hsm = NDN.NDN(hsm_params, noise_dist='poisson')"
   ]
  },
  {
   "cell_type": "code",
   "execution_count": 40,
   "metadata": {},
   "outputs": [],
   "source": [
    "hsm.train(input_data=input_tr_processed, output_data=output_tr, train_indxs=np.array(range(dta_len)), test_indxs=np.array(range(dta_len)), learning_alg=\"adam\", opt_params={'batch_size': 1, 'use_gpu': False})\n"
   ]
  },
  {
   "cell_type": "code",
   "execution_count": 41,
   "metadata": {},
   "outputs": [],
   "source": [
    "results = hsm.generate_prediction(input_tr_processed)\n",
    "display(results[0])\n",
    "display(output_tr[0])"
   ]
  },
  {
   "cell_type": "code",
   "execution_count": 42,
   "metadata": {},
   "outputs": [],
   "source": [
    "eval_info = hsm.eval_models(input_data=input_tr_processed, output_data=output_tr, data_indxs=np.array(range(dta_len)), nulladjusted=True)\n",
    "eval_info"
   ]
  },
  {
   "cell_type": "code",
   "execution_count": 43,
   "metadata": {},
   "outputs": [],
   "source": [
    "len(eval_info)"
   ]
  },
  {
   "cell_type": "code",
   "execution_count": 44,
   "metadata": {},
   "outputs": [],
   "source": [
    "hsm = NDN.NDN(hsm_params, noise_dist='poisson')\n",
    "hsm.train(input_data=input_tr_processed, output_data=output_tr, train_indxs=np.array(range(dta_len)), learning_alg=\"lbfgs\")\n",
    "eval_info = hsm.eval_models(input_data=input_tr_processed, output_data=output_tr, data_indxs=np.array(range(dta_len)), nulladjusted=True)\n",
    "eval_info"
   ]
  },
  {
   "cell_type": "code",
   "execution_count": 45,
   "metadata": {},
   "outputs": [],
   "source": [
    "results = hsm.generate_prediction(input_tr_processed)\n",
    "display(results[0])\n",
    "display(output_tr[0])"
   ]
  },
  {
   "cell_type": "code",
   "execution_count": null,
   "metadata": {},
   "outputs": [],
   "source": []
  }
 ]
}