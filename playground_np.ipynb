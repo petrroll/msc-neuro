{
 "cells": [
  {
   "cell_type": "code",
   "execution_count": null,
   "metadata": {},
   "outputs": [],
   "source": [
    "def reshape_single_as_picture(input, size):\n",
    "    return np.reshape(input, size)\n",
    "\n",
    "def as_single_picture(input, size):\n",
    "    from PIL import Image\n",
    "    input = input/np.max(input)*256\n",
    "    return Image.fromarray(reshape_single_as_picture(input, size).astype('int8'), 'L')\n",
    "\n",
    "import numpy as np\n",
    "from IPython.display import display, Image\n"
   ]
  },
  {
   "cell_type": "code",
   "execution_count": null,
   "metadata": {},
   "outputs": [],
   "source": [
    "import numpy as np\n",
    "xSize = 500\n",
    "ySize = 500\n",
    "\n",
    "xCoords = np.array(range(xSize))\n",
    "yCoords = np.array(range(ySize))\n",
    "\n",
    "X, Y = np.meshgrid(xCoords, yCoords)\n",
    "X = np.expand_dims(X, 2)\n",
    "Y = np.expand_dims(Y, 2)\n",
    "\n",
    "alpha =  np.reshape(np.array([1,1,1,1]), [1, 1, 4])\n",
    "gama = np.reshape(np.array([10,20,30,80]), [1, 1, 4])\n",
    "ux = np.reshape(np.array([10,20,30,80]), [1, 1, 4])\n",
    "uy = np.reshape(np.array([10,20,30,40]), [1, 1, 4])\n",
    "\n",
    "res = (alpha/(gama ** 2)) * np.exp(-((X - ux) ** 2 + (Y - uy) ** 2) / (2*(gama ** 2)))\n",
    "\n",
    "alpha =  np.reshape(np.array([0.5,0.7,0.5,0.5]), [1, 1, 4])\n",
    "gama = np.reshape(np.array([10,20,20,20]), [1, 1, 4])\n",
    "ux = np.reshape(np.array([10,20,10,80]), [1, 1, 4])\n",
    "uy = np.reshape(np.array([10,20,30,40]), [1, 1, 4])\n",
    "\n",
    "res = res - (alpha/(gama ** 2)) * np.exp(-((X - ux) ** 2 + (Y - uy) ** 2) / (2*(gama ** 2)))\n",
    "\n",
    "\n",
    "display(as_single_picture(res[:,:,0], (ySize, xSize)))\n",
    "display(as_single_picture(res[:,:,1], (ySize, xSize)))\n",
    "display(as_single_picture(res[:,:,2], (ySize, xSize)))\n",
    "display(as_single_picture(res[:,:,3], (ySize, xSize)))"
   ]
  },
  {
   "cell_type": "code",
   "execution_count": null,
   "metadata": {},
   "outputs": [],
   "source": [
    "res2 = np.sum(res, axis=(0, 1))\n",
    "display(res2)\n",
    "display(res2 - [2.7844343, 2.2466314, 3.41465,   1.0140454])"
   ]
  },
  {
   "cell_type": "code",
   "execution_count": null,
   "metadata": {},
   "outputs": [],
   "source": [
    "import tensorflow as tf\n",
    "weights = tf.constant(np.array([([[1, 1, 1, 1],[1, 2, 3, 4], [1, 2, 1, 4], [1, 2, 3, 4]]).astype(np.float32))\n",
    "ux = tf.gather(weights, [1])\n",
    "\n",
    "ux.shape"
   ]
  },
  {
   "cell_type": "code",
   "execution_count": null,
   "metadata": {},
   "outputs": [],
   "source": []
  }
 ],
 "metadata": {},
 "nbformat": 4,
 "nbformat_minor": 4
}